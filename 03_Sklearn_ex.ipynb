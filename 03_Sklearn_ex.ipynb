{
 "cells": [
  {
   "cell_type": "markdown",
   "id": "da9b3a46",
   "metadata": {},
   "source": [
    "# No Free Lunch Theorem\n",
    "1. 특성 선택, 훈련 샘플 수집\n",
    "2. 성능 지표 선택\n",
    "3. 분류 모델 및 최적화 알고리즘 선택\n",
    "4. 모델 성능 평가\n",
    "5. 알고리즘 튜닝"
   ]
  },
  {
   "cell_type": "markdown",
   "id": "80bd5ec1",
   "metadata": {},
   "source": [
    "## 아이리스 붓꽃 데이터 가져오기"
   ]
  },
  {
   "cell_type": "code",
   "execution_count": 1,
   "id": "140e9480",
   "metadata": {
    "ExecuteTime": {
     "end_time": "2021-12-07T13:22:35.211281Z",
     "start_time": "2021-12-07T13:22:34.634443Z"
    }
   },
   "outputs": [
    {
     "name": "stdout",
     "output_type": "stream",
     "text": [
      "클래스 레이블: [0 1 2]\n"
     ]
    }
   ],
   "source": [
    "from sklearn import datasets\n",
    "import numpy as np\n",
    "\n",
    "iris = datasets.load_iris()\n",
    "X = iris.data[:, [2, 3]]\n",
    "y = iris.target\n",
    "print('클래스 레이블:', np.unique(y))"
   ]
  },
  {
   "cell_type": "markdown",
   "id": "0129372d",
   "metadata": {},
   "source": [
    "## 훈련 테이터와 검증 데이터 분리 및 계층화"
   ]
  },
  {
   "cell_type": "code",
   "execution_count": 2,
   "id": "0f9d5bb2",
   "metadata": {
    "ExecuteTime": {
     "end_time": "2021-12-07T13:22:35.242171Z",
     "start_time": "2021-12-07T13:22:35.212281Z"
    }
   },
   "outputs": [],
   "source": [
    "from sklearn.model_selection import train_test_split\n",
    "X_train, X_test, y_train, y_test = train_test_split(X, y, test_size=0.3, random_state=1, stratify=y)"
   ]
  },
  {
   "cell_type": "code",
   "execution_count": 3,
   "id": "6869e2c6",
   "metadata": {
    "ExecuteTime": {
     "end_time": "2021-12-07T13:22:35.258157Z",
     "start_time": "2021-12-07T13:22:35.243196Z"
    }
   },
   "outputs": [
    {
     "name": "stdout",
     "output_type": "stream",
     "text": [
      "y의 레이블 카운트: [50 50 50]\n"
     ]
    }
   ],
   "source": [
    "print('y의 레이블 카운트:', np.bincount(y))"
   ]
  },
  {
   "cell_type": "code",
   "execution_count": 4,
   "id": "b8b45384",
   "metadata": {
    "ExecuteTime": {
     "end_time": "2021-12-07T13:22:35.273154Z",
     "start_time": "2021-12-07T13:22:35.259153Z"
    }
   },
   "outputs": [
    {
     "name": "stdout",
     "output_type": "stream",
     "text": [
      "y_train의 레이블 카운트: [35 35 35]\n"
     ]
    }
   ],
   "source": [
    "print('y_train의 레이블 카운트:', np.bincount(y_train))"
   ]
  },
  {
   "cell_type": "code",
   "execution_count": 5,
   "id": "3494f100",
   "metadata": {
    "ExecuteTime": {
     "end_time": "2021-12-07T13:22:35.289109Z",
     "start_time": "2021-12-07T13:22:35.276145Z"
    }
   },
   "outputs": [
    {
     "name": "stdout",
     "output_type": "stream",
     "text": [
      "y_test의 레이블 카운트: [15 15 15]\n"
     ]
    }
   ],
   "source": [
    "print('y_test의 레이블 카운트:', np.bincount(y_test))"
   ]
  },
  {
   "cell_type": "markdown",
   "id": "43ba95b2",
   "metadata": {},
   "source": [
    "## 특성 표준화"
   ]
  },
  {
   "cell_type": "code",
   "execution_count": 6,
   "id": "9f2408ae",
   "metadata": {
    "ExecuteTime": {
     "end_time": "2021-12-07T13:22:35.305173Z",
     "start_time": "2021-12-07T13:22:35.291104Z"
    }
   },
   "outputs": [],
   "source": [
    "from sklearn.preprocessing import StandardScaler\n",
    "\n",
    "sc = StandardScaler()\n",
    "X_train_std = sc.fit_transform(X_train)\n",
    "X_test_std = sc.transform(X_test)"
   ]
  },
  {
   "cell_type": "markdown",
   "id": "ebc1cf5d",
   "metadata": {},
   "source": [
    "## 퍼셉트론 - 훈련"
   ]
  },
  {
   "cell_type": "code",
   "execution_count": 7,
   "id": "f968fc8a",
   "metadata": {
    "ExecuteTime": {
     "end_time": "2021-12-07T13:22:35.366734Z",
     "start_time": "2021-12-07T13:22:35.308160Z"
    }
   },
   "outputs": [
    {
     "data": {
      "text/plain": [
       "Perceptron(eta0=0.1, random_state=1)"
      ]
     },
     "execution_count": 7,
     "metadata": {},
     "output_type": "execute_result"
    }
   ],
   "source": [
    "from sklearn.linear_model import Perceptron\n",
    "\n",
    "ppn = Perceptron(eta0 = 0.1, random_state=1)\n",
    "ppn.fit(X_train_std, y_train)"
   ]
  },
  {
   "cell_type": "markdown",
   "id": "8620dc4c",
   "metadata": {},
   "source": [
    "## 퍼셉트론 - 결과확인"
   ]
  },
  {
   "cell_type": "code",
   "execution_count": 8,
   "id": "d18a286e",
   "metadata": {
    "ExecuteTime": {
     "end_time": "2021-12-07T13:22:35.398681Z",
     "start_time": "2021-12-07T13:22:35.369732Z"
    }
   },
   "outputs": [
    {
     "name": "stdout",
     "output_type": "stream",
     "text": [
      "잘못 분류된 샘플 개수: 1\n"
     ]
    }
   ],
   "source": [
    "y_pred = ppn.predict(X_test_std)\n",
    "print(\"잘못 분류된 샘플 개수: %d\" % (y_test != y_pred).sum())"
   ]
  },
  {
   "cell_type": "code",
   "execution_count": 9,
   "id": "644d2431",
   "metadata": {
    "ExecuteTime": {
     "end_time": "2021-12-07T13:22:35.414637Z",
     "start_time": "2021-12-07T13:22:35.399651Z"
    }
   },
   "outputs": [
    {
     "name": "stdout",
     "output_type": "stream",
     "text": [
      "정확도: 0.978\n"
     ]
    }
   ],
   "source": [
    "from sklearn.metrics import accuracy_score\n",
    "print('정확도: %.3f' % accuracy_score(y_test, y_pred))"
   ]
  },
  {
   "cell_type": "code",
   "execution_count": 10,
   "id": "cd2d435d",
   "metadata": {
    "ExecuteTime": {
     "end_time": "2021-12-07T13:22:35.430596Z",
     "start_time": "2021-12-07T13:22:35.416632Z"
    }
   },
   "outputs": [
    {
     "name": "stdout",
     "output_type": "stream",
     "text": [
      "정확도: 0.978\n"
     ]
    }
   ],
   "source": [
    "print('정확도: %.3f' % ppn.score(X_test_std, y_test))"
   ]
  },
  {
   "cell_type": "markdown",
   "id": "86dbe58c",
   "metadata": {},
   "source": [
    "## 퍼셉트론 - 시각화"
   ]
  },
  {
   "cell_type": "code",
   "execution_count": 11,
   "id": "c2eff556",
   "metadata": {
    "ExecuteTime": {
     "end_time": "2021-12-07T13:22:35.729457Z",
     "start_time": "2021-12-07T13:22:35.431564Z"
    }
   },
   "outputs": [],
   "source": [
    "from matplotlib.colors import ListedColormap\n",
    "import matplotlib.pyplot as plt\n",
    "\n",
    "def plot_decision_regions(X, y, classifier, test_idx = None, resolution=0.02):\n",
    "    \n",
    "    # 마커와 컬러맵을 설정\n",
    "    markers = ('s', 'x', 'o', '^', 'v')\n",
    "    colors = ('red', 'blue', 'lightgreen', 'gray', 'cyan')\n",
    "    cmap = ListedColormap(colors[:len(np.unique(y))])\n",
    "    \n",
    "    # 결정 경계\n",
    "    x1_min, x1_max = X[:, 0].min() - 1, X[:,0].max() + 1\n",
    "    x2_min, x2_max = X[:, 1].min() - 1, X[:,1].max() + 1\n",
    "    xx1, xx2 = np.meshgrid(np.arange(x1_min, x1_max, resolution), np.arange(x2_min, x2_max, resolution))\n",
    "    Z = classifier.predict(np.array([xx1.ravel(), xx2.ravel()]).T)\n",
    "    Z = Z.reshape(xx1.shape)\n",
    "    plt.contour(xx1, xx2, Z, alpha=0.3, cmap=cmap)\n",
    "    plt.xlim(xx1.min(), xx1.max())\n",
    "    plt.ylim(xx2.min(), xx2.max())\n",
    "    \n",
    "    # 산점도\n",
    "    for idx, cl in enumerate(np.unique(y)):\n",
    "        plt.scatter(x = X[y == cl, 0],\n",
    "                    y = X[y == cl, 1],\n",
    "                    alpha=0.8,\n",
    "                    c = colors[idx],\n",
    "                    marker = markers[idx],\n",
    "                    label = cl,\n",
    "                    edgecolor = 'black')\n",
    "        \n",
    "    if test_idx:\n",
    "        X_test, y_test = X[test_idx, :], y[test_idx]\n",
    "        \n",
    "        plt.scatter(X_test[:, 0], \n",
    "                    X_test[:, 1],\n",
    "                    facecolors = 'none', \n",
    "                    edgecolor = 'black',\n",
    "                    linewidth = 1,\n",
    "                    marker = 'o',\n",
    "                    s = 100,\n",
    "                    label = 'test set')"
   ]
  },
  {
   "cell_type": "code",
   "execution_count": 12,
   "id": "f03c0d01",
   "metadata": {
    "ExecuteTime": {
     "end_time": "2021-12-07T13:22:35.902530Z",
     "start_time": "2021-12-07T13:22:35.731484Z"
    }
   },
   "outputs": [
    {
     "name": "stderr",
     "output_type": "stream",
     "text": [
      "C:\\Users\\user\\AppData\\Local\\Temp/ipykernel_8464/2493474730.py:23: UserWarning: You passed a edgecolor/edgecolors ('black') for an unfilled marker ('x').  Matplotlib is ignoring the edgecolor in favor of the facecolor.  This behavior may change in the future.\n",
      "  plt.scatter(x = X[y == cl, 0],\n"
     ]
    },
    {
     "data": {
      "image/png": "[encoded data removed]",
      "text/plain": [
       "<Figure size 432x288 with 1 Axes>"
      ]
     },
     "metadata": {
      "needs_background": "light"
     },
     "output_type": "display_data"
    }
   ],
   "source": [
    "X_combined_std = np.vstack((X_train_std, X_test_std))\n",
    "y_combined = np.hstack((y_train, y_test))\n",
    "plot_decision_regions(X = X_combined_std,\n",
    "                      y = y_combined,\n",
    "                      classifier = ppn,\n",
    "                      test_idx = range(105, 150))\n",
    "plt.xlabel('petal length [standardized]')\n",
    "plt.ylabel('petal width [standardized]')\n",
    "plt.legend(loc = 'upper left')\n",
    "plt.tight_layout()\n",
    "plt.show()"
   ]
  },
  {
   "cell_type": "markdown",
   "id": "885ecd1a",
   "metadata": {},
   "source": [
    "# 로지스틱 회귀\n",
    " : 클래스 레이블을 예측할 뿐만 아니라, 클래스에 소속될 확률을 예측할 때 유용"
   ]
  },
  {
   "cell_type": "markdown",
   "id": "6292b345",
   "metadata": {},
   "source": [
    "## 시그모이드 함수\n",
    "- z가 양의 무한대에 가까워질수록 $\\phi(z)$는 1에 수렴\n",
    "- z가 음의 무한대에 가까워질수록 $\\phi(z)$는 0에 수렴"
   ]
  },
  {
   "cell_type": "code",
   "execution_count": 13,
   "id": "e31b5623",
   "metadata": {
    "ExecuteTime": {
     "end_time": "2021-12-07T13:22:36.231315Z",
     "start_time": "2021-12-07T13:22:35.903037Z"
    }
   },
   "outputs": [
    {
     "data": {
      "image/png": "[encoded data removed]",
      "text/plain": [
       "<Figure size 432x288 with 1 Axes>"
      ]
     },
     "metadata": {
      "needs_background": "light"
     },
     "output_type": "display_data"
    }
   ],
   "source": [
    "import matplotlib.pyplot as plt\n",
    "import numpy as np\n",
    "\n",
    "def sigmoid(z):\n",
    "    return 1.0 / (1.0 + np.exp(-z))\n",
    "\n",
    "z = np.arange(-7, 7, 0.1)\n",
    "phi_z = sigmoid(z)\n",
    "\n",
    "plt.plot(z, phi_z)\n",
    "plt.axvline(0.0, color='k')\n",
    "plt.ylim(-.1, 1.1)\n",
    "plt.xlabel('z')\n",
    "plt.ylabel('$\\phi (z)$')\n",
    "# y축의 눈금과 격자선\n",
    "plt.yticks([0.0, 0.5, 1.0])\n",
    "ax = plt.gca()\n",
    "ax.yaxis.grid(True)\n",
    "plt.tight_layout()\n",
    "plt.show()"
   ]
  },
  {
   "cell_type": "markdown",
   "id": "c9fe3c9b",
   "metadata": {},
   "source": [
    "## 로지스틱 회귀의 비용함수를 유도\n",
    "- 정확히 예측할 수록 비용이 0에 가까워지고, 잘못된 예측을 할 수록 더 큰 비용을 부여"
   ]
  },
  {
   "cell_type": "code",
   "execution_count": 14,
   "id": "ebc7c555",
   "metadata": {
    "ExecuteTime": {
     "end_time": "2021-12-07T13:22:36.246993Z",
     "start_time": "2021-12-07T13:22:36.232190Z"
    }
   },
   "outputs": [],
   "source": [
    "import matplotlib as mpl \n",
    "mpl.rcParams['font.family'] = 'malgun gothic'\n",
    "mpl.rcParams['axes.unicode_minus'] = False"
   ]
  },
  {
   "cell_type": "code",
   "execution_count": 15,
   "id": "bf775d47",
   "metadata": {
    "ExecuteTime": {
     "end_time": "2021-12-07T13:22:36.389954Z",
     "start_time": "2021-12-07T13:22:36.247958Z"
    }
   },
   "outputs": [
    {
     "data": {
      "image/png": "[encoded data removed]",
      "text/plain": [
       "<Figure size 432x288 with 1 Axes>"
      ]
     },
     "metadata": {
      "needs_background": "light"
     },
     "output_type": "display_data"
    }
   ],
   "source": [
    "def cost_1(z):\n",
    "    return - np.log(sigmoid(z))\n",
    "\n",
    "def cost_0(z):\n",
    "    return - np.log(1 - sigmoid(z))\n",
    "\n",
    "z = np.arange(-10, 10, 0.1)\n",
    "phi_z = sigmoid(z)\n",
    "\n",
    "c1 = [cost_1(x) for x in z]\n",
    "plt.plot(phi_z, c1, label = 'J(w) y=1일 때')\n",
    "\n",
    "c0 = [cost_0(x) for x in z]\n",
    "plt.plot(phi_z, c0, linestyle='--', label = 'J(w) y=0일 때')\n",
    "\n",
    "plt.ylim(0.0, 5.1)\n",
    "plt.xlim([0, 1])\n",
    "plt.xlabel('$\\phi$(z)')\n",
    "plt.ylabel('J(w)')\n",
    "plt.legend(loc = 'best')\n",
    "plt.tight_layout()\n",
    "plt.show()"
   ]
  },
  {
   "cell_type": "markdown",
   "id": "d5c97afc",
   "metadata": {},
   "source": [
    "## 로지스틱 회귀 알고리즘"
   ]
  },
  {
   "cell_type": "code",
   "execution_count": 18,
   "id": "ce566863",
   "metadata": {
    "ExecuteTime": {
     "end_time": "2021-12-07T13:23:16.693996Z",
     "start_time": "2021-12-07T13:23:16.671053Z"
    }
   },
   "outputs": [],
   "source": [
    "class LogisticRegressionGD(object):\n",
    "    \"\"\"\n",
    "    경사 하강법을 사용한 로지스틱 회귀 분류기\n",
    "    \n",
    "    매개변수\n",
    "    ------------\n",
    "    learning_rate : float\n",
    "      학습률 (0.0과 1.0 사이)\n",
    "    n_iter : int\n",
    "      훈련 데이터셋 반복 횟수\n",
    "    random_state : int\n",
    "      가중치 무작위 초기화를 위한 난수 생성기 시드\n",
    "      \n",
    "    속성\n",
    "    ------------\n",
    "    w_ : 1d-array\n",
    "      학습된 가중치\n",
    "    cost_ : list\n",
    "      에포크마다 누적된 로지스틱 비용 함수 값\n",
    "      \n",
    "    \"\"\"\n",
    "    \n",
    "    def __init__(self, learning_rate = 0.05, n_iter = 100, random_state=1):\n",
    "        self.learning_rate = learning_rate\n",
    "        self.n_iter = n_iter\n",
    "        self.random_state = random_state\n",
    "        \n",
    "    def fit(self, X, y):\n",
    "        \"\"\"\n",
    "        훈련 데이터 학습\n",
    "        \n",
    "        매개변수\n",
    "        ------------\n",
    "        X : {array-like}, shape = [n_samples, n_features]\n",
    "          n_samples개의 샘플과 n_features개의 특성으로 이루어진 훈련 데이터\n",
    "        y : array-like, shape = [n_samples]\n",
    "          타깃 값\n",
    "          \n",
    "        반환값\n",
    "        ------------\n",
    "        self : object\n",
    "        \n",
    "        \"\"\"\n",
    "        \n",
    "        rgen = np.random.RandomState(self.random_state)\n",
    "        self.w_ = rgen.normal(loc = 0.0, \n",
    "                              scale = 0.01, \n",
    "                              size = 1 + X.shape[1])\n",
    "        self.cost_ = []\n",
    "        \n",
    "        for i in range(self.n_iter):\n",
    "            net_input = self.net_input(X)\n",
    "            output = self.activation(net_input)\n",
    "            errors = (y - output)\n",
    "            self.w_[1:] += self.learning_rate * X.T.dot(errors)\n",
    "            self.w_[0] += self.learning_rate * errors.sum()\n",
    "            \n",
    "            # 제곱 오차합 대신 로지스틱 비용을 계산\n",
    "            cost = (-y.dot(np.log(output)) - ((1-y).dot(np.log(1-output))))\n",
    "            self.cost_.append(cost)\n",
    "        return self\n",
    "    \n",
    "    def net_input(self, X):\n",
    "        \"\"\"최종 입력 계산\"\"\"\n",
    "        return np.dot(X, self.w_[1:]) + self.w_[0]\n",
    "    \n",
    "    def activation(self, z):\n",
    "        \"\"\"로지스틱 시그모이드 활성화 계산\"\"\"\n",
    "        return 1. / (1/ + np.exp(-np.clip(z, -250, 250)))\n",
    "    \n",
    "    def predict(self, X):\n",
    "        \"\"\"단위 계단 함수를 사용하여 클래스 레이블을 반환\"\"\"\n",
    "        return np.where(self.net_input(X) >= 0.0, 1, 0)\n",
    "        # ≒ np.where(self.activation(self.net_input(x)) >= 0.5, 1, 0)"
   ]
  },
  {
   "cell_type": "markdown",
   "id": "b00f0c9d",
   "metadata": {},
   "source": [
    "## 구현한 로지스틱 모델 이진 분류 문제에 적용"
   ]
  },
  {
   "cell_type": "code",
   "execution_count": 19,
   "id": "43d61819",
   "metadata": {
    "ExecuteTime": {
     "end_time": "2021-12-07T13:23:18.054329Z",
     "start_time": "2021-12-07T13:23:17.871719Z"
    }
   },
   "outputs": [
    {
     "name": "stderr",
     "output_type": "stream",
     "text": [
      "C:\\Users\\user\\AppData\\Local\\Temp/ipykernel_8464/323934754.py:59: RuntimeWarning: invalid value encountered in log\n",
      "  cost = (-y.dot(np.log(output)) - ((1-y).dot(np.log(1-output))))\n",
      "C:\\Users\\user\\AppData\\Local\\Temp/ipykernel_8464/2493474730.py:17: UserWarning: No contour levels were found within the data range.\n",
      "  plt.contour(xx1, xx2, Z, alpha=0.3, cmap=cmap)\n",
      "C:\\Users\\user\\AppData\\Local\\Temp/ipykernel_8464/2493474730.py:23: UserWarning: You passed a edgecolor/edgecolors ('black') for an unfilled marker ('x').  Matplotlib is ignoring the edgecolor in favor of the facecolor.  This behavior may change in the future.\n",
      "  plt.scatter(x = X[y == cl, 0],\n"
     ]
    },
    {
     "data": {
      "image/png": "[encoded data removed]",
      "text/plain": [
       "<Figure size 432x288 with 1 Axes>"
      ]
     },
     "metadata": {
      "needs_background": "light"
     },
     "output_type": "display_data"
    }
   ],
   "source": [
    "X_train_01_subset = X_train[(y_train == 0) | (y_train == 1)]\n",
    "y_train_01_subset = y_train[(y_train == 0) | (y_train == 1)]\n",
    "\n",
    "lrgd = LogisticRegressionGD(learning_rate = 0.05,\n",
    "                            n_iter = 1000,\n",
    "                            random_state = 1)\n",
    "\n",
    "lrgd.fit(X_train_01_subset, y_train_01_subset)\n",
    "\n",
    "plot_decision_regions(X = X_train_01_subset, \n",
    "                      y = y_train_01_subset,\n",
    "                      classifier = lrgd)\n",
    "\n",
    "plt.xlabel('petal length [standardized]')\n",
    "plt.ylabel('petal width [standardized]')\n",
    "plt.legend(loc = 'upper left')\n",
    "plt.tight_layout()\n",
    "plt.show()"
   ]
  },
  {
   "cell_type": "code",
   "execution_count": null,
   "id": "a7b506f6",
   "metadata": {},
   "outputs": [],
   "source": []
  }
 ],
 "metadata": {
  "hide_input": false,
  "kernelspec": {
   "display_name": "Python [conda env:ssac_jh] *",
   "language": "python",
   "name": "conda-env-ssac_jh-py"
  },
  "language_info": {
   "codemirror_mode": {
    "name": "ipython",
    "version": 3
   },
   "file_extension": ".py",
   "mimetype": "text/x-python",
   "name": "python",
   "nbconvert_exporter": "python",
   "pygments_lexer": "ipython3",
   "version": "3.8.12"
  },
  "toc": {
   "base_numbering": 1,
   "nav_menu": {},
   "number_sections": false,
   "sideBar": true,
   "skip_h1_title": false,
   "title_cell": "Table of Contents",
   "title_sidebar": "Contents",
   "toc_cell": false,
   "toc_position": {},
   "toc_section_display": true,
   "toc_window_display": false
  },
  "varInspector": {
   "cols": {
    "lenName": 16,
    "lenType": 16,
    "lenVar": 40
   },
   "kernels_config": {
    "python": {
     "delete_cmd_postfix": "",
     "delete_cmd_prefix": "del ",
     "library": "var_list.py",
     "varRefreshCmd": "print(var_dic_list())"
    },
    "r": {
     "delete_cmd_postfix": ") ",
     "delete_cmd_prefix": "rm(",
     "library": "var_list.r",
     "varRefreshCmd": "cat(var_dic_list()) "
    }
   },
   "types_to_exclude": [
    "module",
    "function",
    "builtin_function_or_method",
    "instance",
    "_Feature"
   ],
   "window_display": false
  }
 },
 "nbformat": 4,
 "nbformat_minor": 5
}
